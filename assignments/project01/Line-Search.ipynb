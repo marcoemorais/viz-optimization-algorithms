{
 "cells": [
  {
   "cell_type": "markdown",
   "metadata": {},
   "source": [
    "# Line Search"
   ]
  },
  {
   "cell_type": "markdown",
   "metadata": {},
   "source": [
    "A line search is used to find the distance along the descent direction of the next step of the optimization.  The scalar multiple $\\alpha$ along the descent direction $d$ is found by minimizing the function below.\n",
    "\n",
    "$$\n",
    "\\underset{\\alpha}{\\text{minimize}} f(x_k + \\alpha d)\n",
    "$$\n",
    "where\n",
    "* $f(...)$ is the function to minimize\n",
    "* $x_k$ is the current solution\n",
    "* $\\alpha$ is a scalar \n",
    "* $d$ is a vector that describes the descent direction of the function\n",
    "\n",
    "For first-order optimization problems the descent direction is given by the negative gradient $-\\nabla f(x_k)$.\n",
    "\n",
    "For second-order optimization problems the descent direction is given by by the product of the negative gradient and Hessian $-\\nabla f(x_k) H_k$."
   ]
  },
  {
   "cell_type": "code",
   "execution_count": 1,
   "metadata": {},
   "outputs": [],
   "source": [
    "import numpy as np"
   ]
  },
  {
   "cell_type": "markdown",
   "metadata": {},
   "source": [
    "## Line Search Method"
   ]
  },
  {
   "cell_type": "code",
   "execution_count": 2,
   "metadata": {},
   "outputs": [],
   "source": [
    "def bracket_minimum(fx, x, s, k):\n",
    "    \"\"\"\n",
    "    bracket_minimum returns interval [a,b] that brackets mininum of fx\n",
    "    \n",
    "    Parameters\n",
    "    ----------\n",
    "    fx : function\n",
    "        function\n",
    "    x : numpy.ndarray\n",
    "        starting position around which bracket is found\n",
    "    s : numpy.ndarray\n",
    "        initial step size separating [a,b]\n",
    "    k : float\n",
    "        scaling factor applied to step size at each iteration\n",
    "\n",
    "    Returns\n",
    "    -------\n",
    "    numpy.ndarray\n",
    "        lower bound of bracket interval\n",
    "    numpy.ndarray\n",
    "        upper bound of bracket interval\n",
    "    \"\"\"\n",
    "    a, fxa = x, fx(x)\n",
    "    b, fxb = x + s, fx(x + s)\n",
    "    if fxb > fxa:  # Invariant: a < b.\n",
    "        a, b = b, a\n",
    "        fxa, fxb = fxb, fxa\n",
    "        s = -s\n",
    "    while True:\n",
    "        c, fxc = b + s, fx(b + s)\n",
    "        if fxc > fxb:\n",
    "            break\n",
    "        a, fxa, b, fxb = b, fxb, c, fxc\n",
    "        s = s * k\n",
    "    if a < c:\n",
    "        return a, c\n",
    "    return c, a\n",
    "\n",
    "\n",
    "def goldensection(fx, a, b, tol):\n",
    "    \"\"\"\n",
    "    goldensection returns the minimum of fx over some interval [a,b]\n",
    "\n",
    "    Parameters\n",
    "    ----------\n",
    "    fx : function\n",
    "        function\n",
    "    a : numpy.ndarray\n",
    "        lower bound of interval that brackets minimum of fx\n",
    "    b : numpy.ndarray\n",
    "        upper bound of interval that brackets minimum of fx\n",
    "    tol : float\n",
    "        convergence threshold\n",
    "\n",
    "    Returns\n",
    "    -------\n",
    "    numpy.ndarray\n",
    "        point along interval [a,b] where fx is minimum\n",
    "    \"\"\"\n",
    "    tau = (np.sqrt(5) - 1.) / 2.  # Golden ratio - 1.\n",
    "    x1, x2 = a + (1. - tau) * (b - a), a + tau * (b - a)\n",
    "    fx1, fx2 = fx(x1), fx(x2)\n",
    "    \n",
    "    while (b - a) > tol:\n",
    "        if fx1 < fx2:\n",
    "            b = x2\n",
    "            # Treat x1 as the new x2.\n",
    "            x2, fx2 = x1, fx1\n",
    "            # Compute new x1.\n",
    "            x1 = a + (1. - tau) * (b - a)\n",
    "            fx1 = fx(x1)\n",
    "        else:\n",
    "            a = x1\n",
    "            # Treat x2 as the new x1.\n",
    "            x1, fx1 = x2, fx2\n",
    "            # Compute new x2.\n",
    "            x2 = a + tau * (b - a)\n",
    "            fx2 = fx(x2)\n",
    "    \n",
    "    return x1\n",
    "\n",
    "\n",
    "def line_search(fx, d, xk):\n",
    "    \"\"\"\n",
    "    line_search returns the offset from xk where fx is minimum\n",
    "\n",
    "    Parameters\n",
    "    ----------\n",
    "    fx : function\n",
    "        function\n",
    "    d : numpy.ndarray\n",
    "        descent direction of fx, typically negative gradient at xk\n",
    "    xk : numpy.ndarray\n",
    "        starting position of search\n",
    "\n",
    "    Returns\n",
    "    -------\n",
    "    alpha : float\n",
    "        scalar multiple along descent direction where fx is minimum\n",
    "    numpy.ndarray\n",
    "        position xk where fx is minimum\n",
    "    \"\"\"\n",
    "\n",
    "    # Objective function to minimize.\n",
    "    fobj = lambda alpha: fx(xk + alpha * d)\n",
    "    alpha0 = 1e-6\n",
    "\n",
    "    # Find interval [a,b] closest to alpha0 that brackets the minimum.\n",
    "    a, b = bracket_minimum(fobj, alpha0, s=1e-2, k=2.)\n",
    "\n",
    "    # Find minimum within the bracket [a,b].\n",
    "    alphak = goldensection(fobj, a, b, tol=1e-6)\n",
    "\n",
    "    # Position where fx is minimum.\n",
    "    xkmin  = xk + alphak * d\n",
    "    \n",
    "    return alphak, xkmin"
   ]
  },
  {
   "cell_type": "markdown",
   "metadata": {},
   "source": [
    "Demonstrate the use of a line search to find the next step of the iteration when finding the minimmum of the function $f(x)$ when $x = (1,2,3)$ and $d=(0,-1,-1)$.\n",
    "\n",
    "$$\n",
    "f(x_1, x_2, x_3) = \\sin(x_1 x_2) + \\exp(x_2 + x_3) - x_3\n",
    "$$\n",
    "\n",
    "Problem is taken from example in section 4.2 of:\n",
    "> Mykel J. Kochenderfer and Tim A. Wheeler. 2019. Algorithms for Optimization. The MIT Press."
   ]
  },
  {
   "cell_type": "code",
   "execution_count": 3,
   "metadata": {},
   "outputs": [
    {
     "name": "stdout",
     "output_type": "stream",
     "text": [
      "3.1270455956291503 [ 1.        -1.1270456 -0.1270456]\n"
     ]
    }
   ],
   "source": [
    "fx = lambda x: np.sin(x[0]*x[1]) + np.exp(x[1]+x[2]) - x[2]\n",
    "xk = np.array([1.,2.,3.])\n",
    "d = np.array([0.,-1.,-1.])\n",
    "\n",
    "alphak, xkmin = line_search(fx, d, xk)\n",
    "print(alphak, xkmin)\n",
    "\n",
    "np.testing.assert_almost_equal(alphak, 3.12705, decimal=5)\n",
    "np.testing.assert_almost_equal(xkmin, np.array([1.,-1.126,-0.126]),\n",
    "                               decimal=3)"
   ]
  },
  {
   "cell_type": "code",
   "execution_count": null,
   "metadata": {},
   "outputs": [],
   "source": []
  }
 ],
 "metadata": {
  "kernelspec": {
   "display_name": "Python 3",
   "language": "python",
   "name": "python3"
  },
  "language_info": {
   "codemirror_mode": {
    "name": "ipython",
    "version": 3
   },
   "file_extension": ".py",
   "mimetype": "text/x-python",
   "name": "python",
   "nbconvert_exporter": "python",
   "pygments_lexer": "ipython3",
   "version": "3.6.9"
  }
 },
 "nbformat": 4,
 "nbformat_minor": 4
}
