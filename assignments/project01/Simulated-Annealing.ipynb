{
 "cells": [
  {
   "cell_type": "markdown",
   "metadata": {},
   "source": [
    "# Simulated Annealing"
   ]
  },
  {
   "cell_type": "markdown",
   "metadata": {},
   "source": [
    "## Description\n",
    "Simulated annealing is a stochastic optimization method based on the natural physical optimization process that occurs when a material is heated to a relatively high temperature and allowed to cool.  At high temperature the atoms in the material more readily break apart and redistribute allowing the material to become more easily deformed and disordered.  As the material cools, the amount of free energy needed for such motion decreases and the material hardens into an ordered crystal structure.\n",
    "\n",
    "In the context of optimization, this process suggests two mechanisms:\n",
    "* A means by which the search continues in the direction of the local minimum or restarts in a new position that might be initially worse than the current local minimum. \n",
    "* A slow decrease in the probability that the algorithm restarts the search in some other position.\n",
    "\n",
    "### Transition Distribution\n",
    "The mean and covariance of the transition distribution is used to select a new position.  The new position is described in terms of an offset from the current position according to a multivariate normal distribution.\n",
    "\n",
    "### Annealing Schedule\n",
    "The annealing schedule describes the probability $p(z)$ that the algorithm restarts the search in some other position.  The initial value and rate of decay are parameters of the algorithm.\n",
    "\n",
    "### Algorithm\n",
    "1. Start with some initial guess $x_0$ and set this as the global minimum $f(x_{min}) = f(x_0)$.\n",
    "2. Generate a new position $x_k$ by adding to $x_{k-1}$ an offset randomly chosen from the transition distribution.\n",
    "3. Evaluate the function at the new position and compute the change in the objective function $\\Delta f(x_k) = f(x_k) - f(x_{k-1})$.\n",
    "4. If the objective function is improved $\\Delta f(x_k) < 0$, then move to the new position, else use the annealing schedule to compute the probability that despite the lack of improvement a change in position is still made.\n",
    "5. If the function evaluated at this position is less than the global minimum, then update the global minimum $f(x_{min}) = f(x_k)$.\n",
    "6. Repeat from step 2 until the number of iterations are reached.\n",
    "\n",
    "### References\n",
    "> Mykel J. Kochenderfer and Tim A. Wheeler. 2019. Algorithms for Optimization. The MIT Press."
   ]
  },
  {
   "cell_type": "code",
   "execution_count": 1,
   "metadata": {},
   "outputs": [],
   "source": [
    "from functools import partial\n",
    "\n",
    "import numpy as np\n",
    "import matplotlib.pyplot as plt\n",
    "\n",
    "%matplotlib inline"
   ]
  },
  {
   "cell_type": "markdown",
   "metadata": {},
   "source": [
    "## Annealing Schedule"
   ]
  },
  {
   "cell_type": "markdown",
   "metadata": {},
   "source": [
    "The annealing schedule describes the probability $p(z)$ that the algorithm restarts the search in some other position.\n",
    "\n",
    "$$\n",
    "p(z) = \\exp(-k/T_0)\n",
    "$$\n",
    "where\n",
    "* $T_0$ is the initial temperature\n",
    "* $k$ is the iteration number\n",
    "\n",
    "The higher the initial temperature $T_0$, then the slower the decrease in the probability."
   ]
  },
  {
   "cell_type": "code",
   "execution_count": 2,
   "metadata": {},
   "outputs": [
    {
     "data": {
      "image/png": "[encoded data removed]",
      "text/plain": [
       "<Figure size 432x288 with 1 Axes>"
      ]
     },
     "metadata": {
      "needs_background": "light"
     },
     "output_type": "display_data"
    }
   ],
   "source": [
    "k = np.arange(1,100)\n",
    "\n",
    "T0s = [1,10,25]\n",
    "labels = ['$t_k=1/k$','$t_k=10/k$','$t_k=25/k$']\n",
    "\n",
    "for T0, label in zip(T0s, labels):\n",
    "    tk = np.exp(-k/T0)\n",
    "    label = '$T_0={0}$'.format(T0)\n",
    "    plt.plot(k, tk, label=label)\n",
    "plt.title('Annealing Schedule, $p(z)=\\exp(-k/T_0)$')\n",
    "plt.ylabel('$p(z)$')\n",
    "plt.xlabel('k')\n",
    "plt.xlim(k[0],k[-1])\n",
    "plt.grid()\n",
    "plt.legend()\n",
    "plt.show()"
   ]
  },
  {
   "cell_type": "markdown",
   "metadata": {},
   "source": [
    "## Simulated Annealing Method"
   ]
  },
  {
   "cell_type": "code",
   "execution_count": 3,
   "metadata": {},
   "outputs": [],
   "source": [
    "def simulated_annealing(fx, x0, mean, cov, tk, niter):\n",
    "    \"\"\"\n",
    "    simulated_annealing returns the point xk where fx is minimum\n",
    "\n",
    "    Parameters\n",
    "    ----------\n",
    "    fx : function\n",
    "        function to minimize\n",
    "    x0 : numpy.ndarray\n",
    "        initial guess for xk\n",
    "    mean : numpy.ndarray\n",
    "        means of multivariate normal transition distribution\n",
    "    cov : numpy.ndarray\n",
    "        covariance of multivariate normal transition distribution\n",
    "    tk : function\n",
    "        annealing schedule as a function of iteration number\n",
    "    niter : int\n",
    "        number of iterations\n",
    "\n",
    "    Returns\n",
    "    -------\n",
    "    numpy.ndarray\n",
    "        point xk where fx is minimum\n",
    "    list\n",
    "        list containing points [(x0, fx(x0), xk_min), ...])\n",
    "    \"\"\"\n",
    "\n",
    "    # Initialize solution at x0.\n",
    "    xk, fxk = x0, fx(x0)\n",
    "    xk_min, fxk_min, steps = xk, fxk, [(x0, fxk, x0)]\n",
    "\n",
    "    # Setup random transition distribution. \n",
    "    mvnorm = partial(np.random.multivariate_normal, mean, cov)\n",
    "\n",
    "    # Perform fixed number of iterations.\n",
    "    for k in range(1,niter):\n",
    "\n",
    "        # Generate a new random point.\n",
    "        xk1 = xk + mvnorm()\n",
    "\n",
    "        # Evaluate the function at the new point.\n",
    "        fxk1 = fx(xk1)\n",
    "\n",
    "        # Compute the change in the objective function.\n",
    "        delta_fxk = fxk1 - fxk\n",
    "        \n",
    "        # If objective function is improved or escape current position,\n",
    "        # then update xk, fxk with the new position.\n",
    "        if delta_fxk < 0. or np.random.random() < np.exp(-fxk1/tk(k)):\n",
    "            xk, fxk = xk1, fxk1\n",
    "            if fxk1 < fxk_min:\n",
    "                xk_min, fxk_min = xk1, fxk1\n",
    "\n",
    "        # Append (xk1, fxk1, xk_min) to iteration history.\n",
    "        steps.append((xk1, fxk1, xk_min))\n",
    "\n",
    "    return xk_min, steps"
   ]
  },
  {
   "cell_type": "markdown",
   "metadata": {},
   "source": [
    "## Test Function: Rosenbrock Function"
   ]
  },
  {
   "cell_type": "code",
   "execution_count": 4,
   "metadata": {},
   "outputs": [],
   "source": [
    "def rosenbrock(x):\n",
    "    \"\"\"\n",
    "    rosenbrock evaluates Rosenbrock function at vector x\n",
    "\n",
    "    Parameters\n",
    "    ----------\n",
    "    x : array\n",
    "        x is a D-dimensional vector, [x1, x2, ..., xD]\n",
    "\n",
    "    Returns\n",
    "    -------\n",
    "    float\n",
    "        scalar result\n",
    "    \"\"\"\n",
    "    D = len(x)\n",
    "    i, iplus1 = np.arange(0,D-1), np.arange(1,D)\n",
    "    return np.sum(100*(x[iplus1] - x[i]**2)**2 + (1-x[i])**2)"
   ]
  },
  {
   "cell_type": "markdown",
   "metadata": {},
   "source": [
    "## Solution To Rosenbrock Function"
   ]
  },
  {
   "cell_type": "code",
   "execution_count": 5,
   "metadata": {},
   "outputs": [
    {
     "name": "stdout",
     "output_type": "stream",
     "text": [
      "x0               : [-1. -1.]\n",
      "rosenbrock f(w0) : 404.0\n",
      "----------------------------------\n",
      "xk               : [1.01112051 1.01711123]\n",
      "rosenbrock f(xk) : 0.002883544387166781\n",
      "nsteps           : 20000\n"
     ]
    }
   ],
   "source": [
    "fx = rosenbrock\n",
    "x0, niter = np.array([-1.,-1.]), 20000\n",
    "mean, cov, tk = np.array([1.,1.]), np.eye(2), lambda k: 1./k\n",
    "xk, steps = simulated_annealing(fx, x0, mean, cov, tk, niter)\n",
    "\n",
    "print(\"x0               :\", x0)\n",
    "print(\"rosenbrock f(w0) :\", rosenbrock(x0))\n",
    "print(\"----------------------------------\")\n",
    "print(\"xk               :\", xk)\n",
    "print(\"rosenbrock f(xk) :\", rosenbrock(xk))\n",
    "print(\"nsteps           :\", len(steps))"
   ]
  },
  {
   "cell_type": "markdown",
   "metadata": {},
   "source": [
    "## Test Function: Goldstein-Price Function"
   ]
  },
  {
   "cell_type": "code",
   "execution_count": 6,
   "metadata": {},
   "outputs": [],
   "source": [
    "def goldstein_price(x):\n",
    "    \"\"\"\n",
    "    goldstein_price evaluates Goldstein-Price function at vector x\n",
    "\n",
    "    Parameters\n",
    "    ----------\n",
    "    x : array\n",
    "        x is a 2-dimensional vector, [x1, x2]\n",
    "\n",
    "    Returns\n",
    "    -------\n",
    "    float\n",
    "        scalar result\n",
    "    \"\"\"\n",
    "    a = (x[0] + x[1] + 1)**2\n",
    "    b = 19 - 14*x[0] + 3*x[0]**2 - 14*x[1] + 6*x[0]*x[1] + 3*x[1]**2\n",
    "    c = (2*x[0] - 3*x[1])**2\n",
    "    d = 18 - 32*x[0] + 12*x[0]**2 + 48*x[1] - 36*x[0]*x[1] + 27*x[1]**2\n",
    "    return (1. + a*b) * (30. + c*d)"
   ]
  },
  {
   "cell_type": "markdown",
   "metadata": {},
   "source": [
    "## Solution to Goldstein-Price Function"
   ]
  },
  {
   "cell_type": "code",
   "execution_count": 7,
   "metadata": {},
   "outputs": [
    {
     "name": "stdout",
     "output_type": "stream",
     "text": [
      "x0                    : [-1.  -1.5]\n",
      "goldstein_price f(w0) : 1595.41015625\n",
      "----------------------------------\n",
      "xk                    : [ 0.01703656 -0.98949325]\n",
      "goldstein_price f(xk) : 3.080925188236555\n",
      "nsteps                : 20000\n"
     ]
    }
   ],
   "source": [
    "fx = goldstein_price\n",
    "x0, niter = np.array([-1.0,-1.5]), 20000\n",
    "mean, cov, tk = np.array([1.,1.]), np.eye(2), lambda k: 1./k\n",
    "xk, steps = simulated_annealing(fx, x0, mean, cov, tk, niter)\n",
    "\n",
    "print(\"x0                    :\", x0)\n",
    "print(\"goldstein_price f(w0) :\", goldstein_price(x0))\n",
    "print(\"----------------------------------\")\n",
    "print(\"xk                    :\", xk)\n",
    "print(\"goldstein_price f(xk) :\", goldstein_price(xk))\n",
    "print(\"nsteps                :\", len(steps))"
   ]
  },
  {
   "cell_type": "markdown",
   "metadata": {},
   "source": [
    "## Test Function: Bartels-Conn Function"
   ]
  },
  {
   "cell_type": "code",
   "execution_count": 8,
   "metadata": {},
   "outputs": [],
   "source": [
    "def bartels_conn(x):\n",
    "    \"\"\"\n",
    "    bartels_conn evaluates Bartels-Conn function at vector x\n",
    "\n",
    "    Parameters\n",
    "    ----------\n",
    "    x : array\n",
    "        x is a 2-dimensional vector, [x1, x2]\n",
    "\n",
    "    Returns\n",
    "    -------\n",
    "    float\n",
    "        scalar result\n",
    "    \"\"\"\n",
    "    a = np.abs(x[0]**2 + x[1]**2 + x[0]*x[1])\n",
    "    b = np.abs(np.sin(x[0]))\n",
    "    c = np.abs(np.cos(x[1]))\n",
    "    return a + b +c"
   ]
  },
  {
   "cell_type": "markdown",
   "metadata": {},
   "source": [
    "## Solution to Bartels-Conn Function"
   ]
  },
  {
   "cell_type": "code",
   "execution_count": 9,
   "metadata": {},
   "outputs": [
    {
     "name": "stdout",
     "output_type": "stream",
     "text": [
      "x0                 : [4. 4.]\n",
      "bartels_conn f(w0) : 49.41044611617154\n",
      "----------------------------------\n",
      "xk                 : [-0.0002994   0.00763402]\n",
      "bartels_conn f(xk) : 1.0003263408815453\n",
      "nsteps             : 20000\n"
     ]
    }
   ],
   "source": [
    "fx = bartels_conn\n",
    "x0, niter = np.array([4.,4.]), 20000\n",
    "mean, cov, tk = np.array([1.,1.]), np.eye(2), lambda k: 1./k\n",
    "xk, steps = simulated_annealing(fx, x0, mean, cov, tk, niter)\n",
    "\n",
    "print(\"x0                 :\", x0)\n",
    "print(\"bartels_conn f(w0) :\", bartels_conn(x0))\n",
    "print(\"----------------------------------\")\n",
    "print(\"xk                 :\", xk)\n",
    "print(\"bartels_conn f(xk) :\", bartels_conn(xk))\n",
    "print(\"nsteps             :\", len(steps))"
   ]
  },
  {
   "cell_type": "markdown",
   "metadata": {},
   "source": [
    "## Test Function: Egg Crate Function"
   ]
  },
  {
   "cell_type": "code",
   "execution_count": 10,
   "metadata": {},
   "outputs": [],
   "source": [
    "def egg_crate(x):\n",
    "    \"\"\"\n",
    "    egg_crate evaluates Egg Crate function at vector x\n",
    "\n",
    "    Parameters\n",
    "    ----------\n",
    "    x : array\n",
    "        x is a 2-dimensional vector, [x1, x2]\n",
    "\n",
    "    Returns\n",
    "    -------\n",
    "    float\n",
    "        scalar result\n",
    "    \"\"\"\n",
    "    return x[0]**2 + x[1]**2 + 25.*(np.sin(x[0])**2 + np.sin(x[1])**2)"
   ]
  },
  {
   "cell_type": "markdown",
   "metadata": {},
   "source": [
    "## Solution to Egg Crate Function"
   ]
  },
  {
   "cell_type": "code",
   "execution_count": 11,
   "metadata": {},
   "outputs": [
    {
     "name": "stdout",
     "output_type": "stream",
     "text": [
      "x0              : [4. 4.]\n",
      "egg_crate f(w0) : 60.637500845215335\n",
      "----------------------------------\n",
      "xk              : [-0.0171118 -0.0003681]\n",
      "egg_crate f(xk) : 0.007615968577248186\n",
      "nsteps          : 30000\n"
     ]
    }
   ],
   "source": [
    "fx = egg_crate\n",
    "x0, niter = np.array([4.,4.]), 30000\n",
    "mean, cov, tk = np.array([1.,1.]), np.eye(2), lambda k: 1./k\n",
    "xk, steps = simulated_annealing(fx, x0, mean, cov, tk, niter)\n",
    "\n",
    "print(\"x0              :\", x0)\n",
    "print(\"egg_crate f(w0) :\", egg_crate(x0))\n",
    "print(\"----------------------------------\")\n",
    "print(\"xk              :\", xk)\n",
    "print(\"egg_crate f(xk) :\", egg_crate(xk))\n",
    "print(\"nsteps          :\", len(steps))"
   ]
  },
  {
   "cell_type": "code",
   "execution_count": null,
   "metadata": {},
   "outputs": [],
   "source": []
  }
 ],
 "metadata": {
  "kernelspec": {
   "display_name": "Python 3",
   "language": "python",
   "name": "python3"
  },
  "language_info": {
   "codemirror_mode": {
    "name": "ipython",
    "version": 3
   },
   "file_extension": ".py",
   "mimetype": "text/x-python",
   "name": "python",
   "nbconvert_exporter": "python",
   "pygments_lexer": "ipython3",
   "version": "3.6.9"
  }
 },
 "nbformat": 4,
 "nbformat_minor": 4
}
