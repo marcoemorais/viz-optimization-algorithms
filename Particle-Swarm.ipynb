{
 "cells": [
  {
   "cell_type": "markdown",
   "metadata": {},
   "source": [
    "# Particle Swarm"
   ]
  },
  {
   "cell_type": "markdown",
   "metadata": {},
   "source": [
    "## Description\n",
    "Particle swarm is a stochastic optimization method based on particles at different positions that simultaneously explore the optimization function and influence each other's search.  \n",
    "\n",
    "Each particle in the swarm is characterized by the following properties:\n",
    "* current position\n",
    "* current velocity\n",
    "* position of the minimum found by this particle\n",
    "\n",
    "The rule that each particle uses to update its' next position is based on the following:\n",
    "* current velocity of the particle\n",
    "* velocity in the direction of the minimum found by this particle so far\n",
    "* velocity in the direction of the global minimum found by all particles so far\n",
    "\n",
    "### Algorithm\n",
    "1. Initialize a list of $n \\times p$-dimensional particles with a random initial position $(x_{1,0}, \\cdots, x_{n,0})$ and random velocity $(v_{1,0}, \\cdots, v_{n,0})$.\n",
    "2. For each particle save the position and minimum function value found by that particle $(x_{1,\\min}, \\cdots, x_{n,\\min})$ and $(f(x_{1,\\min}), \\cdots, f(x_{n,\\min}))$.\n",
    "3. Save the global position and minimum function value $x_\\min$ and $f(x_\\min)$.\n",
    "4. Initialize a counter $k=1$ used to track the iteration number.\n",
    "5. Update the velocity of each particle for the current iteration $v_{i,k} = \\omega v_{i,k-1} + p_1 r_{i,1} (x_{i,\\min} - x_{i,k-1}) + p_2 r_{i,2} (x_\\min - x_{i,k-1})$ where $\\omega$ is a inertia constant, $p_1, p_2$ are momentum constants, and $r_{i,1}, r_{i,2}$ are per-particle random numbers in the range $[0,1]$.\n",
    "6. Update the position of each particle for the current iteration $x_{i,k} = x_{i,k-1} + v_{i,k}$.\n",
    "7. Evaluate the objective function at each new position and update the per-particle and global minimum function values and position.\n",
    "8. Repeat from step 4 until the number of iterations are reached.\n",
    "\n",
    "### References\n",
    ">  J. Kennedy, R. C. Eberhart, and Y. Shi, Swarm Intelligence. Morgan Kaufmann, 2001. \n",
    "\n",
    "> Mykel J. Kochenderfer and Tim A. Wheeler. 2019. Algorithms for Optimization. The MIT Press."
   ]
  },
  {
   "cell_type": "code",
   "execution_count": 1,
   "metadata": {},
   "outputs": [],
   "source": [
    "import numpy as np"
   ]
  },
  {
   "cell_type": "markdown",
   "metadata": {},
   "source": [
    "## Particle Swarm Method"
   ]
  },
  {
   "cell_type": "code",
   "execution_count": 2,
   "metadata": {},
   "outputs": [],
   "source": [
    "def particle_swarm(fx, x0s, omega, p1, p2, bounds, niter):\n",
    "    \"\"\"\n",
    "    particle_swarm returns the point xk where fx is minimum\n",
    "\n",
    "    Parameters\n",
    "    ----------\n",
    "    fx : function\n",
    "        function to minimize\n",
    "    x0s : numpy.ndarray\n",
    "        initial positions of particles in swarm\n",
    "    omega : float\n",
    "        inertia coefficient\n",
    "    p1 : float\n",
    "        momentum coefficient towards min position of current particle\n",
    "    p2 : float\n",
    "        momentum coefficient towards min position among all particles\n",
    "    bounds : numpy.ndarray\n",
    "        domain boundaries [x1_min, x1_max, ..., xn_min, xn_max]\n",
    "    niter : int\n",
    "        number of iterations\n",
    "\n",
    "    Returns\n",
    "    -------\n",
    "    numpy.ndarray\n",
    "        point xk where fx is minimum\n",
    "    numpy.ndarray\n",
    "        current and minimum position and value history for each particle\n",
    "        [[x_1,0, fx(x_1,0), xk_1,min, fx(xk_1,min),...,\n",
    "            x_n,0, fx(x_n,0), xk_n,min, fx(xk_n,min)],\n",
    "         [x_1,1, fx(x_1,1), xk_1,min, fx(xk_1,min),...,\n",
    "            x_n,1, fx(x_n,1), xk_n,min, fx(xk_n,min)],\n",
    "    \"\"\"\n",
    "\n",
    "    # Initialize swarm with position, velocity, and min position.\n",
    "    pos = np.copy(x0s)\n",
    "    x0sdelta = np.max(x0s, axis=0) - np.min(x0s, axis=0)\n",
    "    vel = (np.random.random(x0s.shape)-0.5)*x0sdelta\n",
    "    posmin, fxmin = np.copy(x0s), np.apply_along_axis(fx, 1, x0s)\n",
    "\n",
    "    # Global minimum position.\n",
    "    xk_min, fxk_min = posmin[np.argmin(fxmin),:], np.min(fxmin)\n",
    "\n",
    "    # Save position, velocity, and min position by particle to history.\n",
    "    npart, ndim = x0s.shape[0], x0s.shape[1]\n",
    "    steps = np.zeros((npart*niter, ndim*3+1))\n",
    "    steps[:npart,:] = np.hstack((pos, vel, posmin, fxmin[:,np.newaxis]))\n",
    "\n",
    "    # Perform fixed number of iterations.\n",
    "    for k in range(1,niter):\n",
    "        \n",
    "        # Compute new velocity of each particle.\n",
    "        rs = np.random.random((npart,2))\n",
    "        vel = omega*vel + p1*rs[0]*(posmin-pos) + p2*rs[1]*(xk_min-pos)\n",
    "\n",
    "        # Update the position of each particle based on velocity.\n",
    "        pos = pos + vel\n",
    "        pos = np.clip(pos, a_min=bounds[::2], a_max=bounds[1::2])\n",
    "\n",
    "        # Evaluate the objective function at each new position.\n",
    "        fxpart = np.apply_along_axis(fx, 1, pos)\n",
    "        \n",
    "        # If objective function is improved, \n",
    "        # then replace particle minimum position and value.\n",
    "        inds = fxpart < fxmin\n",
    "        posmin[inds,:], fxmin[inds] = pos[inds,:], fxpart[inds]\n",
    "\n",
    "        # If global objective function is improved, \n",
    "        # then replace global minimum position and value.\n",
    "        ind = np.argmin(fxmin)\n",
    "        if fxmin[ind] < fxk_min:\n",
    "            xk_min, fxk_min = posmin[ind,:], fxmin[ind]\n",
    "\n",
    "        # Save particle history.\n",
    "        ind0 = k*npart\n",
    "        steps[ind0:ind0+npart,:] = np.hstack((pos, vel, posmin,\n",
    "                                              fxmin[:,np.newaxis]))\n",
    "\n",
    "    return xk_min, steps"
   ]
  },
  {
   "cell_type": "markdown",
   "metadata": {},
   "source": [
    "## Test Function: Rosenbrock Function"
   ]
  },
  {
   "cell_type": "code",
   "execution_count": 3,
   "metadata": {},
   "outputs": [],
   "source": [
    "def rosenbrock(x):\n",
    "    \"\"\"\n",
    "    rosenbrock evaluates Rosenbrock function at vector x\n",
    "\n",
    "    Parameters\n",
    "    ----------\n",
    "    x : array\n",
    "        x is a D-dimensional vector, [x1, x2, ..., xD]\n",
    "\n",
    "    Returns\n",
    "    -------\n",
    "    float\n",
    "        scalar result\n",
    "    \"\"\"\n",
    "    D = len(x)\n",
    "    i, iplus1 = np.arange(0,D-1), np.arange(1,D)\n",
    "    return np.sum(100*(x[iplus1] - x[i]**2)**2 + (1-x[i])**2)"
   ]
  },
  {
   "cell_type": "markdown",
   "metadata": {},
   "source": [
    "## Solution To Rosenbrock Function"
   ]
  },
  {
   "cell_type": "code",
   "execution_count": 4,
   "metadata": {},
   "outputs": [
    {
     "name": "stdout",
     "output_type": "stream",
     "text": [
      "x0               : [-1.  1.]\n",
      "rosenbrock f(w0) : 4.0\n",
      "----------------------------------\n",
      "xk               : [0.99429233 0.98952196]\n",
      "rosenbrock f(xk) : 0.00011442825405660791\n",
      "nsteps           : 5000\n"
     ]
    }
   ],
   "source": [
    "fx = rosenbrock\n",
    "# Initial position of particles across domain.\n",
    "# NOTE(mmorais): Deliberately avoid points near global minimum.\n",
    "x0s = np.array([[-1.,-1.],[1.,-1.],[-1.,1.],[0.,1.5]])\n",
    "niter = 5000\n",
    "omega, p1, p2 = 1., 1., 1.\n",
    "bounds = np.array([-2.,2.,-2.,2.])\n",
    "xk, steps = particle_swarm(fx, x0s, omega, p1, p2, bounds, niter)\n",
    "\n",
    "# Extract the initial position having the minimum value.\n",
    "x0 = steps[np.argmin(steps[:x0s.shape[0], -1]),:2]\n",
    "\n",
    "print(\"x0               :\", x0)\n",
    "print(\"rosenbrock f(w0) :\", rosenbrock(x0))\n",
    "print(\"----------------------------------\")\n",
    "print(\"xk               :\", xk)\n",
    "print(\"rosenbrock f(xk) :\", rosenbrock(xk))\n",
    "print(\"nsteps           :\", niter)"
   ]
  },
  {
   "cell_type": "markdown",
   "metadata": {},
   "source": [
    "## Test Function: Goldstein-Price Function"
   ]
  },
  {
   "cell_type": "code",
   "execution_count": 5,
   "metadata": {},
   "outputs": [],
   "source": [
    "def goldstein_price(x):\n",
    "    \"\"\"\n",
    "    goldstein_price evaluates Goldstein-Price function at vector x\n",
    "\n",
    "    Parameters\n",
    "    ----------\n",
    "    x : array\n",
    "        x is a 2-dimensional vector, [x1, x2]\n",
    "\n",
    "    Returns\n",
    "    -------\n",
    "    float\n",
    "        scalar result\n",
    "    \"\"\"\n",
    "    a = (x[0] + x[1] + 1)**2\n",
    "    b = 19 - 14*x[0] + 3*x[0]**2 - 14*x[1] + 6*x[0]*x[1] + 3*x[1]**2\n",
    "    c = (2*x[0] - 3*x[1])**2\n",
    "    d = 18 - 32*x[0] + 12*x[0]**2 + 48*x[1] - 36*x[0]*x[1] + 27*x[1]**2\n",
    "    return (1. + a*b) * (30. + c*d)"
   ]
  },
  {
   "cell_type": "markdown",
   "metadata": {},
   "source": [
    "## Solution to Goldstein-Price Function"
   ]
  },
  {
   "cell_type": "code",
   "execution_count": 6,
   "metadata": {},
   "outputs": [
    {
     "name": "stdout",
     "output_type": "stream",
     "text": [
      "x0                    : [1. 0.]\n",
      "goldstein_price f(w0) : 726.0\n",
      "----------------------------------\n",
      "xk                    : [-0.01133158 -0.99957836]\n",
      "goldstein_price f(xk) : 3.0333595279873276\n",
      "nsteps                : 5000\n"
     ]
    }
   ],
   "source": [
    "fx = goldstein_price\n",
    "# Initial position of particles across domain.\n",
    "# NOTE(mmorais): Deliberately avoid points near global minimum.\n",
    "x0s = np.array([[-1.5,1.],[0.,1.5],[1.5,1.5],[-1.5,-1.],[1.,0.]])\n",
    "niter = 5000\n",
    "omega, p1, p2 = 1., 1., 1.\n",
    "bounds = np.array([-2.,2.,-2.,2.])\n",
    "xk, steps = particle_swarm(fx, x0s, omega, p1, p2, bounds, niter)\n",
    "\n",
    "# Extract the initial position having the minimum value.\n",
    "x0 = steps[np.argmin(steps[:x0s.shape[0], -1]),:2]\n",
    "\n",
    "print(\"x0                    :\", x0)\n",
    "print(\"goldstein_price f(w0) :\", goldstein_price(x0))\n",
    "print(\"----------------------------------\")\n",
    "print(\"xk                    :\", xk)\n",
    "print(\"goldstein_price f(xk) :\", goldstein_price(xk))\n",
    "print(\"nsteps                :\", niter)"
   ]
  },
  {
   "cell_type": "markdown",
   "metadata": {},
   "source": [
    "## Test Function: Bartels-Conn Function"
   ]
  },
  {
   "cell_type": "code",
   "execution_count": 7,
   "metadata": {},
   "outputs": [],
   "source": [
    "def bartels_conn(x):\n",
    "    \"\"\"\n",
    "    bartels_conn evaluates Bartels-Conn function at vector x\n",
    "\n",
    "    Parameters\n",
    "    ----------\n",
    "    x : array\n",
    "        x is a 2-dimensional vector, [x1, x2]\n",
    "\n",
    "    Returns\n",
    "    -------\n",
    "    float\n",
    "        scalar result\n",
    "    \"\"\"\n",
    "    a = np.abs(x[0]**2 + x[1]**2 + x[0]*x[1])\n",
    "    b = np.abs(np.sin(x[0]))\n",
    "    c = np.abs(np.cos(x[1]))\n",
    "    return a + b +c"
   ]
  },
  {
   "cell_type": "markdown",
   "metadata": {},
   "source": [
    "## Solution to Bartels-Conn Function"
   ]
  },
  {
   "cell_type": "code",
   "execution_count": 8,
   "metadata": {},
   "outputs": [
    {
     "name": "stdout",
     "output_type": "stream",
     "text": [
      "x0                 : [0. 3.]\n",
      "bartels_conn f(w0) : 9.989992496600445\n",
      "----------------------------------\n",
      "xk                 : [-0.00095064  0.10885384]\n",
      "bartels_conn f(xk) : 1.0067784905734738\n",
      "nsteps             : 5000\n"
     ]
    }
   ],
   "source": [
    "fx = bartels_conn\n",
    "# Initial position of particles across domain.\n",
    "# NOTE(mmorais): Deliberately avoid points near global minimum.\n",
    "x0s = np.array([[-3.,3.],[0.,3.],[3.,3.],\n",
    "                [-3.,-3.],[0.,-3.],[3.,-3]])\n",
    "niter = 5000\n",
    "omega, p1, p2 = 1., 1., 1.\n",
    "bounds = np.array([-5.,5.,-5.,5.])\n",
    "xk, steps = particle_swarm(fx, x0s, omega, p1, p2, bounds, niter)\n",
    "\n",
    "# Extract the initial position having the minimum value.\n",
    "x0 = steps[np.argmin(steps[:x0s.shape[0], -1]),:2]\n",
    "\n",
    "print(\"x0                 :\", x0)\n",
    "print(\"bartels_conn f(w0) :\", bartels_conn(x0))\n",
    "print(\"----------------------------------\")\n",
    "print(\"xk                 :\", xk)\n",
    "print(\"bartels_conn f(xk) :\", bartels_conn(xk))\n",
    "print(\"nsteps             :\", niter)"
   ]
  },
  {
   "cell_type": "markdown",
   "metadata": {},
   "source": [
    "## Test Function: Egg Crate Function"
   ]
  },
  {
   "cell_type": "code",
   "execution_count": 9,
   "metadata": {},
   "outputs": [],
   "source": [
    "def egg_crate(x):\n",
    "    \"\"\"\n",
    "    egg_crate evaluates Egg Crate function at vector x\n",
    "\n",
    "    Parameters\n",
    "    ----------\n",
    "    x : array\n",
    "        x is a 2-dimensional vector, [x1, x2]\n",
    "\n",
    "    Returns\n",
    "    -------\n",
    "    float\n",
    "        scalar result\n",
    "    \"\"\"\n",
    "    return x[0]**2 + x[1]**2 + 25.*(np.sin(x[0])**2 + np.sin(x[1])**2)"
   ]
  },
  {
   "cell_type": "markdown",
   "metadata": {},
   "source": [
    "## Solution to Egg Crate Function"
   ]
  },
  {
   "cell_type": "code",
   "execution_count": 10,
   "metadata": {},
   "outputs": [
    {
     "name": "stdout",
     "output_type": "stream",
     "text": [
      "x0              : [0. 3.]\n",
      "egg_crate f(w0) : 9.497871416870424\n",
      "----------------------------------\n",
      "xk              : [-0.02350755  0.00138511]\n",
      "egg_crate f(xk) : 0.01441506173272409\n",
      "nsteps          : 5000\n"
     ]
    }
   ],
   "source": [
    "fx = egg_crate\n",
    "# Initial position of particles across domain.\n",
    "# NOTE(mmorais): Deliberately avoid points near global minimum.\n",
    "x0s = np.array([[-3.,3.],[0.,3.],[3.,3.],\n",
    "                [-3.,-3.],[0.,-3.],[3.,-3]])\n",
    "niter = 5000\n",
    "omega, p1, p2 = 1., 1., 1.\n",
    "bounds = np.array([-5.,5.,-5.,5.])\n",
    "xk, steps = particle_swarm(fx, x0s, omega, p1, p2, bounds, niter)\n",
    "\n",
    "# Extract the initial position having the minimum value.\n",
    "x0 = steps[np.argmin(steps[:x0s.shape[0], -1]),:2]\n",
    "\n",
    "print(\"x0              :\", x0)\n",
    "print(\"egg_crate f(w0) :\", egg_crate(x0))\n",
    "print(\"----------------------------------\")\n",
    "print(\"xk              :\", xk)\n",
    "print(\"egg_crate f(xk) :\", egg_crate(xk))\n",
    "print(\"nsteps          :\", niter)"
   ]
  },
  {
   "cell_type": "code",
   "execution_count": null,
   "metadata": {},
   "outputs": [],
   "source": []
  }
 ],
 "metadata": {
  "kernelspec": {
   "display_name": "Python 3",
   "language": "python",
   "name": "python3"
  },
  "language_info": {
   "codemirror_mode": {
    "name": "ipython",
    "version": 3
   },
   "file_extension": ".py",
   "mimetype": "text/x-python",
   "name": "python",
   "nbconvert_exporter": "python",
   "pygments_lexer": "ipython3",
   "version": "3.6.9"
  }
 },
 "nbformat": 4,
 "nbformat_minor": 4
}
